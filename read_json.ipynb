{
 "cells": [
  {
   "cell_type": "code",
   "execution_count": 1,
   "metadata": {},
   "outputs": [],
   "source": [
    "import pandas as pd\n",
    "import numpy as np"
   ]
  },
  {
   "cell_type": "code",
   "execution_count": 8,
   "metadata": {},
   "outputs": [
    {
     "data": {
      "text/html": [
       "<div>\n",
       "<style scoped>\n",
       "    .dataframe tbody tr th:only-of-type {\n",
       "        vertical-align: middle;\n",
       "    }\n",
       "\n",
       "    .dataframe tbody tr th {\n",
       "        vertical-align: top;\n",
       "    }\n",
       "\n",
       "    .dataframe thead th {\n",
       "        text-align: right;\n",
       "    }\n",
       "</style>\n",
       "<table border=\"1\" class=\"dataframe\">\n",
       "  <thead>\n",
       "    <tr style=\"text-align: right;\">\n",
       "      <th></th>\n",
       "      <th>id</th>\n",
       "      <th>author</th>\n",
       "      <th>bib</th>\n",
       "      <th>link</th>\n",
       "      <th>keywords</th>\n",
       "      <th>part</th>\n",
       "      <th>subpart</th>\n",
       "      <th>task</th>\n",
       "    </tr>\n",
       "  </thead>\n",
       "  <tbody>\n",
       "    <tr>\n",
       "      <th>0</th>\n",
       "      <td>1</td>\n",
       "      <td>Douglas Walton, Christopher Reed, and Fabrizio...</td>\n",
       "      <td>Argumentation schemes. Cambridge University Pr...</td>\n",
       "      <td>https://www.semanticscholar.org/paper/Argument...</td>\n",
       "      <td></td>\n",
       "      <td>Motivations</td>\n",
       "      <td>Motivations</td>\n",
       "      <td></td>\n",
       "    </tr>\n",
       "    <tr>\n",
       "      <th>1</th>\n",
       "      <td>2</td>\n",
       "      <td>Iryna Gurevych, Eduard H. Hovy, Noam Slonim, a...</td>\n",
       "      <td>20 15512 – debating technologies 2 table of c...</td>\n",
       "      <td>https://drops.dagstuhl.de/opus/volltexte/2016/...</td>\n",
       "      <td>Computational Argumentation, Discourse and Dia...</td>\n",
       "      <td>Motivations</td>\n",
       "      <td>Motivations</td>\n",
       "      <td></td>\n",
       "    </tr>\n",
       "    <tr>\n",
       "      <th>2</th>\n",
       "      <td>3</td>\n",
       "      <td>Khalid Al-Khatib, Henning Wachsmuth, Matthias ...</td>\n",
       "      <td>Cross-domain mining of argumentative text thro...</td>\n",
       "      <td>https://aclanthology.org/N16-1165.pdf</td>\n",
       "      <td></td>\n",
       "      <td>Motivations</td>\n",
       "      <td>Motivations</td>\n",
       "      <td></td>\n",
       "    </tr>\n",
       "    <tr>\n",
       "      <th>3</th>\n",
       "      <td>4</td>\n",
       "      <td>Roxanne El Baff, Henning Wachsmuth, Khalid Al-...</td>\n",
       "      <td>Challenge or empower: Revisiting argumentation...</td>\n",
       "      <td>https://aclanthology.org/K18-1044.pdf</td>\n",
       "      <td></td>\n",
       "      <td>Motivations</td>\n",
       "      <td>Motivations</td>\n",
       "      <td></td>\n",
       "    </tr>\n",
       "    <tr>\n",
       "      <th>4</th>\n",
       "      <td>5</td>\n",
       "      <td>Ivan Habernal, Henning Wachsmuth, Iryna Gurevy...</td>\n",
       "      <td>The argument reasoning comprehension task: Ide...</td>\n",
       "      <td>https://aclanthology.org/N18-1175.pdf</td>\n",
       "      <td></td>\n",
       "      <td>Motivations</td>\n",
       "      <td>Motivations</td>\n",
       "      <td></td>\n",
       "    </tr>\n",
       "  </tbody>\n",
       "</table>\n",
       "</div>"
      ],
      "text/plain": [
       "   id                                             author  \\\n",
       "0   1  Douglas Walton, Christopher Reed, and Fabrizio...   \n",
       "1   2  Iryna Gurevych, Eduard H. Hovy, Noam Slonim, a...   \n",
       "2   3  Khalid Al-Khatib, Henning Wachsmuth, Matthias ...   \n",
       "3   4  Roxanne El Baff, Henning Wachsmuth, Khalid Al-...   \n",
       "4   5  Ivan Habernal, Henning Wachsmuth, Iryna Gurevy...   \n",
       "\n",
       "                                                 bib  \\\n",
       "0  Argumentation schemes. Cambridge University Pr...   \n",
       "1   20 15512 – debating technologies 2 table of c...   \n",
       "2  Cross-domain mining of argumentative text thro...   \n",
       "3  Challenge or empower: Revisiting argumentation...   \n",
       "4  The argument reasoning comprehension task: Ide...   \n",
       "\n",
       "                                                link  \\\n",
       "0  https://www.semanticscholar.org/paper/Argument...   \n",
       "1  https://drops.dagstuhl.de/opus/volltexte/2016/...   \n",
       "2              https://aclanthology.org/N16-1165.pdf   \n",
       "3              https://aclanthology.org/K18-1044.pdf   \n",
       "4              https://aclanthology.org/N18-1175.pdf   \n",
       "\n",
       "                                            keywords         part  \\\n",
       "0                                                     Motivations   \n",
       "1  Computational Argumentation, Discourse and Dia...  Motivations   \n",
       "2                                                     Motivations   \n",
       "3                                                     Motivations   \n",
       "4                                                     Motivations   \n",
       "\n",
       "       subpart task  \n",
       "0  Motivations       \n",
       "1  Motivations       \n",
       "2  Motivations       \n",
       "3  Motivations       \n",
       "4  Motivations       "
      ]
     },
     "execution_count": 8,
     "metadata": {},
     "output_type": "execute_result"
    }
   ],
   "source": [
    "doc = pd.read_json('references.json', orient='records')\n",
    "doc.head()"
   ]
  },
  {
   "cell_type": "code",
   "execution_count": 13,
   "metadata": {},
   "outputs": [
    {
     "name": "stdout",
     "output_type": "stream",
     "text": [
      "Dialogue Systems | Thiemo Wambsganss, Tobias Kueng, Matthias Söllner, and Jan Marco Leimeister. | [Arguetutor: An adaptive dialog-based learning system for argumentation skills. pp. 1--13, 05 2021.](https://www.alexandria.unisg.ch/262207/1/CHI2021_ArgueTutor_double_col.pdf) |  |  |\n",
      "Interactive Dashboards | Thiemo Wambsganss, Christina Niklaus, Matthias Cetto, Matthias Söllner, Siegfried Handschuh, and Jan Marco Leimeister. | [Al: An adaptive learning support system for argumentation skills. 04 2020.](https://www.alexandria.unisg.ch/259194/2/Paper603.pdf) |  |  |\n",
      "User's background-based systems | Henning Wachsmuth and Milad Alshomary. | [''mama always had a way of explaining things so I could understand'': A dialogue corpus for learning to construct explanations. In Proceedings of the 29th International Conference on Computational Linguistics, pp. 344--354, Gyeongju, Republic of Korea, October 2022. International Committee on Computational Linguistics.](https://aclanthology.org/2022.coling-1.27.pdf) |  |  |\n"
     ]
    }
   ],
   "source": [
    "_SECTION = 'Interactive Explanations'\n",
    "\n",
    "_section_ref = doc[doc.part==_SECTION]\n",
    "for index, row in _section_ref.iterrows():\n",
    "    print(f'{row[\"subpart\"]} | {row[\"author\"]} | [{row[\"bib\"]}]({row[\"link\"]}) | {row[\"task\"]} | {row[\"keywords\"]} |')\n"
   ]
  }
 ],
 "metadata": {
  "kernelspec": {
   "display_name": "tf",
   "language": "python",
   "name": "python3"
  },
  "language_info": {
   "codemirror_mode": {
    "name": "ipython",
    "version": 3
   },
   "file_extension": ".py",
   "mimetype": "text/x-python",
   "name": "python",
   "nbconvert_exporter": "python",
   "pygments_lexer": "ipython3",
   "version": "3.9.16"
  },
  "orig_nbformat": 4,
  "vscode": {
   "interpreter": {
    "hash": "cb7b1c8365c8e0087a64371321e3613ebbd00aedf0ec9f0c244cd35c93e0f97f"
   }
  }
 },
 "nbformat": 4,
 "nbformat_minor": 2
}
